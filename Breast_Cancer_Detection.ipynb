{
  "nbformat": 4,
  "nbformat_minor": 0,
  "metadata": {
    "colab": {
      "name": "Breast_Cancer_Detection",
      "provenance": []
    },
    "kernelspec": {
      "name": "python3",
      "display_name": "Python 3"
    },
    "language_info": {
      "name": "python"
    }
  },
  "cells": [
    {
      "cell_type": "code",
      "metadata": {
        "id": "m4qXm-bTqduZ"
      },
      "source": [
        "from google_drive_downloader import GoogleDriveDownloader as gdd\n",
        "\n",
        "gdd.download_file_from_google_drive(file_id='12umDKmXJ8--ZmuiTrchSQRCs8SmRl12h',\n",
        "dest_path='content/mammographic_images.zip',\n",
        "unzip=True)"
      ],
      "execution_count": 295,
      "outputs": []
    },
    {
      "cell_type": "code",
      "metadata": {
        "id": "l3OEuZwuqqUQ"
      },
      "source": [
        "import pandas as pd \n",
        "import numpy as np \n",
        "import tensorflow as tf \n",
        "import os \n",
        "import cv2 \n",
        "from sklearn.model_selection import train_test_split \n",
        "from sklearn.metrics import f1_score"
      ],
      "execution_count": 296,
      "outputs": []
    },
    {
      "cell_type": "code",
      "metadata": {
        "colab": {
          "base_uri": "https://localhost:8080/",
          "height": 202
        },
        "id": "4Qgp3jzbq09M",
        "outputId": "e4af2c40-50b4-4e3e-d9b4-842d21e4eda2"
      },
      "source": [
        "labels = pd.read_csv(\"/content/content/mammography_images/Training_set.csv\") \n",
        "labels.head() #"
      ],
      "execution_count": 297,
      "outputs": [
        {
          "output_type": "execute_result",
          "data": {
            "text/html": [
              "<div>\n",
              "<style scoped>\n",
              "    .dataframe tbody tr th:only-of-type {\n",
              "        vertical-align: middle;\n",
              "    }\n",
              "\n",
              "    .dataframe tbody tr th {\n",
              "        vertical-align: top;\n",
              "    }\n",
              "\n",
              "    .dataframe thead th {\n",
              "        text-align: right;\n",
              "    }\n",
              "</style>\n",
              "<table border=\"1\" class=\"dataframe\">\n",
              "  <thead>\n",
              "    <tr style=\"text-align: right;\">\n",
              "      <th></th>\n",
              "      <th>filename</th>\n",
              "      <th>label</th>\n",
              "    </tr>\n",
              "  </thead>\n",
              "  <tbody>\n",
              "    <tr>\n",
              "      <th>0</th>\n",
              "      <td>Image_1.jpg</td>\n",
              "      <td>Density3Benign</td>\n",
              "    </tr>\n",
              "    <tr>\n",
              "      <th>1</th>\n",
              "      <td>Image_2.jpg</td>\n",
              "      <td>Density1Benign</td>\n",
              "    </tr>\n",
              "    <tr>\n",
              "      <th>2</th>\n",
              "      <td>Image_3.jpg</td>\n",
              "      <td>Density1Malignant</td>\n",
              "    </tr>\n",
              "    <tr>\n",
              "      <th>3</th>\n",
              "      <td>Image_4.jpg</td>\n",
              "      <td>Density1Benign</td>\n",
              "    </tr>\n",
              "    <tr>\n",
              "      <th>4</th>\n",
              "      <td>Image_5.jpg</td>\n",
              "      <td>Density1Malignant</td>\n",
              "    </tr>\n",
              "  </tbody>\n",
              "</table>\n",
              "</div>"
            ],
            "text/plain": [
              "      filename              label\n",
              "0  Image_1.jpg     Density3Benign\n",
              "1  Image_2.jpg     Density1Benign\n",
              "2  Image_3.jpg  Density1Malignant\n",
              "3  Image_4.jpg     Density1Benign\n",
              "4  Image_5.jpg  Density1Malignant"
            ]
          },
          "metadata": {
            "tags": []
          },
          "execution_count": 297
        }
      ]
    },
    {
      "cell_type": "code",
      "metadata": {
        "colab": {
          "base_uri": "https://localhost:8080/",
          "height": 202
        },
        "id": "BaernGm6q8Cx",
        "outputId": "fd113812-e963-4538-aef1-999136e4bcc5"
      },
      "source": [
        "labels.tail()"
      ],
      "execution_count": 298,
      "outputs": [
        {
          "output_type": "execute_result",
          "data": {
            "text/html": [
              "<div>\n",
              "<style scoped>\n",
              "    .dataframe tbody tr th:only-of-type {\n",
              "        vertical-align: middle;\n",
              "    }\n",
              "\n",
              "    .dataframe tbody tr th {\n",
              "        vertical-align: top;\n",
              "    }\n",
              "\n",
              "    .dataframe thead th {\n",
              "        text-align: right;\n",
              "    }\n",
              "</style>\n",
              "<table border=\"1\" class=\"dataframe\">\n",
              "  <thead>\n",
              "    <tr style=\"text-align: right;\">\n",
              "      <th></th>\n",
              "      <th>filename</th>\n",
              "      <th>label</th>\n",
              "    </tr>\n",
              "  </thead>\n",
              "  <tbody>\n",
              "    <tr>\n",
              "      <th>5719</th>\n",
              "      <td>Image_5720.jpg</td>\n",
              "      <td>Density2Malignant</td>\n",
              "    </tr>\n",
              "    <tr>\n",
              "      <th>5720</th>\n",
              "      <td>Image_5721.jpg</td>\n",
              "      <td>Density2Malignant</td>\n",
              "    </tr>\n",
              "    <tr>\n",
              "      <th>5721</th>\n",
              "      <td>Image_5722.jpg</td>\n",
              "      <td>Density2Malignant</td>\n",
              "    </tr>\n",
              "    <tr>\n",
              "      <th>5722</th>\n",
              "      <td>Image_5723.jpg</td>\n",
              "      <td>Density1Benign</td>\n",
              "    </tr>\n",
              "    <tr>\n",
              "      <th>5723</th>\n",
              "      <td>Image_5724.jpg</td>\n",
              "      <td>Density3Benign</td>\n",
              "    </tr>\n",
              "  </tbody>\n",
              "</table>\n",
              "</div>"
            ],
            "text/plain": [
              "            filename              label\n",
              "5719  Image_5720.jpg  Density2Malignant\n",
              "5720  Image_5721.jpg  Density2Malignant\n",
              "5721  Image_5722.jpg  Density2Malignant\n",
              "5722  Image_5723.jpg     Density1Benign\n",
              "5723  Image_5724.jpg     Density3Benign"
            ]
          },
          "metadata": {
            "tags": []
          },
          "execution_count": 298
        }
      ]
    },
    {
      "cell_type": "code",
      "metadata": {
        "id": "Navyns_mrCBu"
      },
      "source": [
        "file_paths = [[fname, '/content/content/mammography_images/train/' + fname] for fname in labels['filename']]"
      ],
      "execution_count": 299,
      "outputs": []
    },
    {
      "cell_type": "code",
      "metadata": {
        "colab": {
          "base_uri": "https://localhost:8080/"
        },
        "id": "btvSUeTVrHJr",
        "outputId": "0c0e627f-c322-45ea-b8af-86daaddab3ed"
      },
      "source": [
        "# Confirm if number of images is same as number of labels given\n",
        "if len(labels) == len(file_paths):\n",
        "    print('Number of labels i.e. ', len(labels), 'matches the number of filenames i.e. ', len(file_paths))\n",
        "else:\n",
        "    print('Number of labels does not match the number of filenames')"
      ],
      "execution_count": 300,
      "outputs": [
        {
          "output_type": "stream",
          "text": [
            "Number of labels i.e.  5724 matches the number of filenames i.e.  5724\n"
          ],
          "name": "stdout"
        }
      ]
    },
    {
      "cell_type": "code",
      "metadata": {
        "colab": {
          "base_uri": "https://localhost:8080/",
          "height": 202
        },
        "id": "Yhc7EFjcrQNB",
        "outputId": "29da0655-197d-45c2-ba26-8d78d7287b90"
      },
      "source": [
        "images = pd.DataFrame(file_paths, columns=['filename', 'filepaths'])\n",
        "images.head()"
      ],
      "execution_count": 301,
      "outputs": [
        {
          "output_type": "execute_result",
          "data": {
            "text/html": [
              "<div>\n",
              "<style scoped>\n",
              "    .dataframe tbody tr th:only-of-type {\n",
              "        vertical-align: middle;\n",
              "    }\n",
              "\n",
              "    .dataframe tbody tr th {\n",
              "        vertical-align: top;\n",
              "    }\n",
              "\n",
              "    .dataframe thead th {\n",
              "        text-align: right;\n",
              "    }\n",
              "</style>\n",
              "<table border=\"1\" class=\"dataframe\">\n",
              "  <thead>\n",
              "    <tr style=\"text-align: right;\">\n",
              "      <th></th>\n",
              "      <th>filename</th>\n",
              "      <th>filepaths</th>\n",
              "    </tr>\n",
              "  </thead>\n",
              "  <tbody>\n",
              "    <tr>\n",
              "      <th>0</th>\n",
              "      <td>Image_1.jpg</td>\n",
              "      <td>/content/content/mammography_images/train/Imag...</td>\n",
              "    </tr>\n",
              "    <tr>\n",
              "      <th>1</th>\n",
              "      <td>Image_2.jpg</td>\n",
              "      <td>/content/content/mammography_images/train/Imag...</td>\n",
              "    </tr>\n",
              "    <tr>\n",
              "      <th>2</th>\n",
              "      <td>Image_3.jpg</td>\n",
              "      <td>/content/content/mammography_images/train/Imag...</td>\n",
              "    </tr>\n",
              "    <tr>\n",
              "      <th>3</th>\n",
              "      <td>Image_4.jpg</td>\n",
              "      <td>/content/content/mammography_images/train/Imag...</td>\n",
              "    </tr>\n",
              "    <tr>\n",
              "      <th>4</th>\n",
              "      <td>Image_5.jpg</td>\n",
              "      <td>/content/content/mammography_images/train/Imag...</td>\n",
              "    </tr>\n",
              "  </tbody>\n",
              "</table>\n",
              "</div>"
            ],
            "text/plain": [
              "      filename                                          filepaths\n",
              "0  Image_1.jpg  /content/content/mammography_images/train/Imag...\n",
              "1  Image_2.jpg  /content/content/mammography_images/train/Imag...\n",
              "2  Image_3.jpg  /content/content/mammography_images/train/Imag...\n",
              "3  Image_4.jpg  /content/content/mammography_images/train/Imag...\n",
              "4  Image_5.jpg  /content/content/mammography_images/train/Imag..."
            ]
          },
          "metadata": {
            "tags": []
          },
          "execution_count": 301
        }
      ]
    },
    {
      "cell_type": "code",
      "metadata": {
        "colab": {
          "base_uri": "https://localhost:8080/",
          "height": 202
        },
        "id": "kRyF7pdNrVfl",
        "outputId": "cc38edbb-1488-4c7d-d8d8-aac12840df6c"
      },
      "source": [
        "train_data = pd.merge(images, labels, how = 'inner', on = 'filename')\n",
        "train_data.head()"
      ],
      "execution_count": 302,
      "outputs": [
        {
          "output_type": "execute_result",
          "data": {
            "text/html": [
              "<div>\n",
              "<style scoped>\n",
              "    .dataframe tbody tr th:only-of-type {\n",
              "        vertical-align: middle;\n",
              "    }\n",
              "\n",
              "    .dataframe tbody tr th {\n",
              "        vertical-align: top;\n",
              "    }\n",
              "\n",
              "    .dataframe thead th {\n",
              "        text-align: right;\n",
              "    }\n",
              "</style>\n",
              "<table border=\"1\" class=\"dataframe\">\n",
              "  <thead>\n",
              "    <tr style=\"text-align: right;\">\n",
              "      <th></th>\n",
              "      <th>filename</th>\n",
              "      <th>filepaths</th>\n",
              "      <th>label</th>\n",
              "    </tr>\n",
              "  </thead>\n",
              "  <tbody>\n",
              "    <tr>\n",
              "      <th>0</th>\n",
              "      <td>Image_1.jpg</td>\n",
              "      <td>/content/content/mammography_images/train/Imag...</td>\n",
              "      <td>Density3Benign</td>\n",
              "    </tr>\n",
              "    <tr>\n",
              "      <th>1</th>\n",
              "      <td>Image_2.jpg</td>\n",
              "      <td>/content/content/mammography_images/train/Imag...</td>\n",
              "      <td>Density1Benign</td>\n",
              "    </tr>\n",
              "    <tr>\n",
              "      <th>2</th>\n",
              "      <td>Image_3.jpg</td>\n",
              "      <td>/content/content/mammography_images/train/Imag...</td>\n",
              "      <td>Density1Malignant</td>\n",
              "    </tr>\n",
              "    <tr>\n",
              "      <th>3</th>\n",
              "      <td>Image_4.jpg</td>\n",
              "      <td>/content/content/mammography_images/train/Imag...</td>\n",
              "      <td>Density1Benign</td>\n",
              "    </tr>\n",
              "    <tr>\n",
              "      <th>4</th>\n",
              "      <td>Image_5.jpg</td>\n",
              "      <td>/content/content/mammography_images/train/Imag...</td>\n",
              "      <td>Density1Malignant</td>\n",
              "    </tr>\n",
              "  </tbody>\n",
              "</table>\n",
              "</div>"
            ],
            "text/plain": [
              "      filename  ...              label\n",
              "0  Image_1.jpg  ...     Density3Benign\n",
              "1  Image_2.jpg  ...     Density1Benign\n",
              "2  Image_3.jpg  ...  Density1Malignant\n",
              "3  Image_4.jpg  ...     Density1Benign\n",
              "4  Image_5.jpg  ...  Density1Malignant\n",
              "\n",
              "[5 rows x 3 columns]"
            ]
          },
          "metadata": {
            "tags": []
          },
          "execution_count": 302
        }
      ]
    },
    {
      "cell_type": "code",
      "metadata": {
        "id": "1cGiHltMrZIz"
      },
      "source": [
        "data = [] # initialize an empty numpy array\n",
        "image_size = 50 # image size taken is 200 here. one can take other size too\n",
        "for i in range(len(train_data)):\n",
        "\n",
        "    img_array = cv2.imread(train_data['filepaths'][i], cv2.IMREAD_GRAYSCALE) # converting the image to gray scale\n",
        "\n",
        "    new_img_array = cv2.resize(img_array, (image_size, image_size)) # resizing the image array\n",
        "    if train_data['label'][i] == 'Density1Benign':\n",
        "      data.append([new_img_array, 0])\n",
        "    elif train_data['label'][i] == 'Density1Malignant':\n",
        "      data.append([new_img_array, 1])\n",
        "    elif train_data['label'][i] == 'Density2Benign':\n",
        "      data.append([new_img_array, 2])\n",
        "    elif train_data['label'][i] == 'Density2Malignant':\n",
        "      data.append([new_img_array, 3])\n",
        "    elif train_data['label'][i] == 'Density3Benign':\n",
        "      data.append([new_img_array, 4])\n",
        "    elif train_data['label'][i] == 'Density3Malignant':\n",
        "      data.append([new_img_array, 5])\n",
        "    elif train_data['label'][i] == 'Density4Benign':\n",
        "      data.append([new_img_array, 6])\n",
        "    elif train_data['label'][i] == 'Density4Malignant':\n",
        "      data.append([new_img_array, 7])"
      ],
      "execution_count": 303,
      "outputs": []
    },
    {
      "cell_type": "code",
      "metadata": {
        "colab": {
          "base_uri": "https://localhost:8080/"
        },
        "id": "iRUqHHvVr1sC",
        "outputId": "e2c47273-600a-4902-8122-99117859017f"
      },
      "source": [
        "# image pixels of a image\n",
        "data[0]"
      ],
      "execution_count": 304,
      "outputs": [
        {
          "output_type": "execute_result",
          "data": {
            "text/plain": [
              "[array([[0, 0, 0, ..., 0, 0, 0],\n",
              "        [0, 0, 0, ..., 0, 0, 0],\n",
              "        [0, 0, 0, ..., 0, 0, 0],\n",
              "        ...,\n",
              "        [0, 0, 0, ..., 0, 0, 0],\n",
              "        [0, 0, 0, ..., 0, 0, 0],\n",
              "        [0, 0, 0, ..., 0, 0, 0]], dtype=uint8), 4]"
            ]
          },
          "metadata": {
            "tags": []
          },
          "execution_count": 304
        }
      ]
    },
    {
      "cell_type": "code",
      "metadata": {
        "id": "Fk3QAI8Qr-E8"
      },
      "source": [
        "np.random.shuffle(data)"
      ],
      "execution_count": 305,
      "outputs": []
    },
    {
      "cell_type": "code",
      "metadata": {
        "id": "1lwFqKKUsSvZ"
      },
      "source": [
        "x = []\n",
        "y = []\n",
        "for image in data:\n",
        "    x.append(image[0])\n",
        "    y.append(image[1])\n",
        "\n",
        "# converting x & y to numpy array as they are list\n",
        "x = np.array(x)\n",
        "y = np.array(y)"
      ],
      "execution_count": 306,
      "outputs": []
    },
    {
      "cell_type": "code",
      "metadata": {
        "colab": {
          "base_uri": "https://localhost:8080/"
        },
        "id": "tN2rOZM7srVu",
        "outputId": "d66f4893-cc9a-40d8-9b53-07b8b5b645bf"
      },
      "source": [
        "np.unique(y, return_counts=True)"
      ],
      "execution_count": 307,
      "outputs": [
        {
          "output_type": "execute_result",
          "data": {
            "text/plain": [
              "(array([0, 1, 2, 3, 4, 5, 6, 7]),\n",
              " array([ 648, 1620,  216, 1728,  702,  432,  324,   54]))"
            ]
          },
          "metadata": {
            "tags": []
          },
          "execution_count": 307
        }
      ]
    },
    {
      "cell_type": "code",
      "metadata": {
        "id": "q2Fkc581swSu"
      },
      "source": [
        "# split the data\n",
        "X_train, X_val, y_train, y_val = train_test_split(x,y,test_size=0.3, random_state = 42)"
      ],
      "execution_count": 308,
      "outputs": []
    },
    {
      "cell_type": "code",
      "metadata": {
        "colab": {
          "base_uri": "https://localhost:8080/"
        },
        "id": "6Qnvfo0OtB_j",
        "outputId": "99ae52fa-9960-495e-f892-3827fa73a1d3"
      },
      "source": [
        "# Defining the model\n",
        "model = tf.keras.Sequential([\n",
        "tf.keras.layers.Flatten(input_shape=(50, 50)), # flattening the image\n",
        "tf.keras.layers.Dense(50, activation='relu'),\n",
        "tf.keras.layers.Dense(40, activation='relu'),\n",
        "tf.keras.layers.Dense(30, activation='relu'),\n",
        "tf.keras.layers.Dense(20, activation='relu'),\n",
        "tf.keras.layers.Dense(16, activation='sigmoid')\n",
        "])\n",
        "\n",
        "model.compile(optimizer='adam',\n",
        "loss='sparse_categorical_crossentropy',\n",
        "metrics=['accuracy'])\n",
        "\n",
        "model.fit(X_train, y_train, epochs=40, batch_size=10)\n"
      ],
      "execution_count": 309,
      "outputs": [
        {
          "output_type": "stream",
          "text": [
            "Epoch 1/40\n",
            "401/401 [==============================] - 1s 2ms/step - loss: 6.4261 - accuracy: 0.2041\n",
            "Epoch 2/40\n",
            "401/401 [==============================] - 1s 2ms/step - loss: 1.8125 - accuracy: 0.2888\n",
            "Epoch 3/40\n",
            "401/401 [==============================] - 1s 3ms/step - loss: 1.7562 - accuracy: 0.2963\n",
            "Epoch 4/40\n",
            "401/401 [==============================] - 1s 3ms/step - loss: 1.7367 - accuracy: 0.2951\n",
            "Epoch 5/40\n",
            "401/401 [==============================] - 1s 3ms/step - loss: 1.7010 - accuracy: 0.3213\n",
            "Epoch 6/40\n",
            "401/401 [==============================] - 1s 3ms/step - loss: 1.6656 - accuracy: 0.3393\n",
            "Epoch 7/40\n",
            "401/401 [==============================] - 1s 2ms/step - loss: 1.6440 - accuracy: 0.3709\n",
            "Epoch 8/40\n",
            "401/401 [==============================] - 1s 3ms/step - loss: 1.6235 - accuracy: 0.3590\n",
            "Epoch 9/40\n",
            "401/401 [==============================] - 1s 2ms/step - loss: 1.5924 - accuracy: 0.3901\n",
            "Epoch 10/40\n",
            "401/401 [==============================] - 1s 3ms/step - loss: 1.6177 - accuracy: 0.3674\n",
            "Epoch 11/40\n",
            "401/401 [==============================] - 1s 3ms/step - loss: 1.5014 - accuracy: 0.4092\n",
            "Epoch 12/40\n",
            "401/401 [==============================] - 1s 3ms/step - loss: 1.4999 - accuracy: 0.4086\n",
            "Epoch 13/40\n",
            "401/401 [==============================] - 1s 2ms/step - loss: 1.6055 - accuracy: 0.3939\n",
            "Epoch 14/40\n",
            "401/401 [==============================] - 1s 3ms/step - loss: 1.4360 - accuracy: 0.4288\n",
            "Epoch 15/40\n",
            "401/401 [==============================] - 1s 3ms/step - loss: 1.4152 - accuracy: 0.4455\n",
            "Epoch 16/40\n",
            "401/401 [==============================] - 1s 3ms/step - loss: 1.3963 - accuracy: 0.4327\n",
            "Epoch 17/40\n",
            "401/401 [==============================] - 1s 3ms/step - loss: 1.4059 - accuracy: 0.4400\n",
            "Epoch 18/40\n",
            "401/401 [==============================] - 1s 3ms/step - loss: 1.4002 - accuracy: 0.4516\n",
            "Epoch 19/40\n",
            "401/401 [==============================] - 1s 3ms/step - loss: 1.3619 - accuracy: 0.4454\n",
            "Epoch 20/40\n",
            "401/401 [==============================] - 1s 2ms/step - loss: 1.3591 - accuracy: 0.4620\n",
            "Epoch 21/40\n",
            "401/401 [==============================] - 1s 3ms/step - loss: 1.3256 - accuracy: 0.4712\n",
            "Epoch 22/40\n",
            "401/401 [==============================] - 1s 3ms/step - loss: 1.2920 - accuracy: 0.4621\n",
            "Epoch 23/40\n",
            "401/401 [==============================] - 1s 2ms/step - loss: 1.2151 - accuracy: 0.5148\n",
            "Epoch 24/40\n",
            "401/401 [==============================] - 1s 2ms/step - loss: 1.2329 - accuracy: 0.4977\n",
            "Epoch 25/40\n",
            "401/401 [==============================] - 1s 3ms/step - loss: 1.2104 - accuracy: 0.5050\n",
            "Epoch 26/40\n",
            "401/401 [==============================] - 1s 3ms/step - loss: 1.2396 - accuracy: 0.5081\n",
            "Epoch 27/40\n",
            "401/401 [==============================] - 1s 3ms/step - loss: 1.1957 - accuracy: 0.5051\n",
            "Epoch 28/40\n",
            "401/401 [==============================] - 1s 3ms/step - loss: 1.1802 - accuracy: 0.5235\n",
            "Epoch 29/40\n",
            "401/401 [==============================] - 1s 3ms/step - loss: 1.1512 - accuracy: 0.5453\n",
            "Epoch 30/40\n",
            "401/401 [==============================] - 1s 3ms/step - loss: 1.1440 - accuracy: 0.5319\n",
            "Epoch 31/40\n",
            "401/401 [==============================] - 1s 3ms/step - loss: 1.1846 - accuracy: 0.5163\n",
            "Epoch 32/40\n",
            "401/401 [==============================] - 1s 3ms/step - loss: 1.1261 - accuracy: 0.5379\n",
            "Epoch 33/40\n",
            "401/401 [==============================] - 1s 3ms/step - loss: 1.0967 - accuracy: 0.5346\n",
            "Epoch 34/40\n",
            "401/401 [==============================] - 1s 3ms/step - loss: 1.0795 - accuracy: 0.5570\n",
            "Epoch 35/40\n",
            "401/401 [==============================] - 1s 2ms/step - loss: 1.0484 - accuracy: 0.5782\n",
            "Epoch 36/40\n",
            "401/401 [==============================] - 1s 2ms/step - loss: 1.0834 - accuracy: 0.5509\n",
            "Epoch 37/40\n",
            "401/401 [==============================] - 1s 3ms/step - loss: 1.0756 - accuracy: 0.5636\n",
            "Epoch 38/40\n",
            "401/401 [==============================] - 1s 2ms/step - loss: 1.0489 - accuracy: 0.5666\n",
            "Epoch 39/40\n",
            "401/401 [==============================] - 1s 2ms/step - loss: 1.0847 - accuracy: 0.5595\n",
            "Epoch 40/40\n",
            "401/401 [==============================] - 1s 2ms/step - loss: 1.1035 - accuracy: 0.5506\n"
          ],
          "name": "stdout"
        },
        {
          "output_type": "execute_result",
          "data": {
            "text/plain": [
              "<tensorflow.python.keras.callbacks.History at 0x7f21f8f31850>"
            ]
          },
          "metadata": {
            "tags": []
          },
          "execution_count": 309
        }
      ]
    },
    {
      "cell_type": "code",
      "metadata": {
        "colab": {
          "base_uri": "https://localhost:8080/"
        },
        "id": "ruZuxY1j5pGs",
        "outputId": "6b8ad1f7-2d47-4dd0-dadd-abf71939121c"
      },
      "source": [
        "model.evaluate(X_val, y_val)"
      ],
      "execution_count": 310,
      "outputs": [
        {
          "output_type": "stream",
          "text": [
            "54/54 [==============================] - 0s 2ms/step - loss: 1.1710 - accuracy: 0.5314\n"
          ],
          "name": "stdout"
        },
        {
          "output_type": "execute_result",
          "data": {
            "text/plain": [
              "[1.1709938049316406, 0.5314319133758545]"
            ]
          },
          "metadata": {
            "tags": []
          },
          "execution_count": 310
        }
      ]
    },
    {
      "cell_type": "code",
      "metadata": {
        "colab": {
          "base_uri": "https://localhost:8080/",
          "height": 202
        },
        "id": "FAMCoNUR6ADG",
        "outputId": "08ff0e1c-1510-4a5a-ca93-8fc3ccc2305f"
      },
      "source": [
        "# Loading the order of the image's name that has been provided\n",
        "test_image_order = pd.read_csv(\"/content/content/mammography_images/Testing_set.csv\")\n",
        "test_image_order.head()"
      ],
      "execution_count": 311,
      "outputs": [
        {
          "output_type": "execute_result",
          "data": {
            "text/html": [
              "<div>\n",
              "<style scoped>\n",
              "    .dataframe tbody tr th:only-of-type {\n",
              "        vertical-align: middle;\n",
              "    }\n",
              "\n",
              "    .dataframe tbody tr th {\n",
              "        vertical-align: top;\n",
              "    }\n",
              "\n",
              "    .dataframe thead th {\n",
              "        text-align: right;\n",
              "    }\n",
              "</style>\n",
              "<table border=\"1\" class=\"dataframe\">\n",
              "  <thead>\n",
              "    <tr style=\"text-align: right;\">\n",
              "      <th></th>\n",
              "      <th>filename</th>\n",
              "    </tr>\n",
              "  </thead>\n",
              "  <tbody>\n",
              "    <tr>\n",
              "      <th>0</th>\n",
              "      <td>Image_1.jpg</td>\n",
              "    </tr>\n",
              "    <tr>\n",
              "      <th>1</th>\n",
              "      <td>Image_2.jpg</td>\n",
              "    </tr>\n",
              "    <tr>\n",
              "      <th>2</th>\n",
              "      <td>Image_3.jpg</td>\n",
              "    </tr>\n",
              "    <tr>\n",
              "      <th>3</th>\n",
              "      <td>Image_4.jpg</td>\n",
              "    </tr>\n",
              "    <tr>\n",
              "      <th>4</th>\n",
              "      <td>Image_5.jpg</td>\n",
              "    </tr>\n",
              "  </tbody>\n",
              "</table>\n",
              "</div>"
            ],
            "text/plain": [
              "      filename\n",
              "0  Image_1.jpg\n",
              "1  Image_2.jpg\n",
              "2  Image_3.jpg\n",
              "3  Image_4.jpg\n",
              "4  Image_5.jpg"
            ]
          },
          "metadata": {
            "tags": []
          },
          "execution_count": 311
        }
      ]
    },
    {
      "cell_type": "code",
      "metadata": {
        "id": "k3b-GbgX6D75"
      },
      "source": [
        "file_paths = [[fname, '/content/content/mammography_images/test/' + fname] for fname in test_image_order['filename']]"
      ],
      "execution_count": 312,
      "outputs": []
    },
    {
      "cell_type": "code",
      "metadata": {
        "colab": {
          "base_uri": "https://localhost:8080/"
        },
        "id": "iuQ9iO_k6H8r",
        "outputId": "d29d2051-12af-4195-eec9-d0974e0600e2"
      },
      "source": [
        "# Confirm if number of images is same as number of labels given\n",
        "if len(test_image_order) == len(file_paths):\n",
        "    print('Number of image names i.e. ', len(test_image_order), 'matches the number of file paths i.e. ', len(file_paths))\n",
        "else:\n",
        "    print('Number of image names does not match the number of filepaths')    "
      ],
      "execution_count": 313,
      "outputs": [
        {
          "output_type": "stream",
          "text": [
            "Number of image names i.e.  1908 matches the number of file paths i.e.  1908\n"
          ],
          "name": "stdout"
        }
      ]
    },
    {
      "cell_type": "code",
      "metadata": {
        "colab": {
          "base_uri": "https://localhost:8080/",
          "height": 202
        },
        "id": "TmR0ClLi6R0Y",
        "outputId": "675ebe44-df52-4c01-c17e-0f17b7cabd79"
      },
      "source": [
        "test_images = pd.DataFrame(file_paths, columns=['filename', 'filepaths'])\n",
        "test_images.head()"
      ],
      "execution_count": 314,
      "outputs": [
        {
          "output_type": "execute_result",
          "data": {
            "text/html": [
              "<div>\n",
              "<style scoped>\n",
              "    .dataframe tbody tr th:only-of-type {\n",
              "        vertical-align: middle;\n",
              "    }\n",
              "\n",
              "    .dataframe tbody tr th {\n",
              "        vertical-align: top;\n",
              "    }\n",
              "\n",
              "    .dataframe thead th {\n",
              "        text-align: right;\n",
              "    }\n",
              "</style>\n",
              "<table border=\"1\" class=\"dataframe\">\n",
              "  <thead>\n",
              "    <tr style=\"text-align: right;\">\n",
              "      <th></th>\n",
              "      <th>filename</th>\n",
              "      <th>filepaths</th>\n",
              "    </tr>\n",
              "  </thead>\n",
              "  <tbody>\n",
              "    <tr>\n",
              "      <th>0</th>\n",
              "      <td>Image_1.jpg</td>\n",
              "      <td>/content/content/mammography_images/test/Image...</td>\n",
              "    </tr>\n",
              "    <tr>\n",
              "      <th>1</th>\n",
              "      <td>Image_2.jpg</td>\n",
              "      <td>/content/content/mammography_images/test/Image...</td>\n",
              "    </tr>\n",
              "    <tr>\n",
              "      <th>2</th>\n",
              "      <td>Image_3.jpg</td>\n",
              "      <td>/content/content/mammography_images/test/Image...</td>\n",
              "    </tr>\n",
              "    <tr>\n",
              "      <th>3</th>\n",
              "      <td>Image_4.jpg</td>\n",
              "      <td>/content/content/mammography_images/test/Image...</td>\n",
              "    </tr>\n",
              "    <tr>\n",
              "      <th>4</th>\n",
              "      <td>Image_5.jpg</td>\n",
              "      <td>/content/content/mammography_images/test/Image...</td>\n",
              "    </tr>\n",
              "  </tbody>\n",
              "</table>\n",
              "</div>"
            ],
            "text/plain": [
              "      filename                                          filepaths\n",
              "0  Image_1.jpg  /content/content/mammography_images/test/Image...\n",
              "1  Image_2.jpg  /content/content/mammography_images/test/Image...\n",
              "2  Image_3.jpg  /content/content/mammography_images/test/Image...\n",
              "3  Image_4.jpg  /content/content/mammography_images/test/Image...\n",
              "4  Image_5.jpg  /content/content/mammography_images/test/Image..."
            ]
          },
          "metadata": {
            "tags": []
          },
          "execution_count": 314
        }
      ]
    },
    {
      "cell_type": "code",
      "metadata": {
        "id": "bmLhLMvt6Wev"
      },
      "source": [
        "test_pixel_data = [] # initialize an empty numpy array\n",
        "image_size = 50 # image size taken is 100 here. one can take other size too\n",
        "for i in range(len(test_images)):\n",
        "\n",
        "    img_array = cv2.imread(test_images['filepaths'][i], cv2.IMREAD_GRAYSCALE) # converting the image to gray scale\n",
        "\n",
        "    new_img_array = cv2.resize(img_array, (image_size, image_size)) # resizing the image array\n",
        "\n",
        "    test_pixel_data.append(new_img_array)"
      ],
      "execution_count": 315,
      "outputs": []
    },
    {
      "cell_type": "code",
      "metadata": {
        "id": "XLv47_1S6lLB"
      },
      "source": [
        "test_pixel_data = np.array(test_pixel_data)"
      ],
      "execution_count": 316,
      "outputs": []
    },
    {
      "cell_type": "code",
      "metadata": {
        "id": "JHiwOiuQ6puc"
      },
      "source": [
        "pred = model.predict(test_pixel_data)"
      ],
      "execution_count": 317,
      "outputs": []
    },
    {
      "cell_type": "code",
      "metadata": {
        "colab": {
          "base_uri": "https://localhost:8080/"
        },
        "id": "bTq5e7w96t_N",
        "outputId": "bfc0a991-f8c6-4c25-9840-88524e8d182d"
      },
      "source": [
        "# The predicted values are the probabilities value\n",
        "pred[0]"
      ],
      "execution_count": 318,
      "outputs": [
        {
          "output_type": "execute_result",
          "data": {
            "text/plain": [
              "array([9.7377503e-01, 9.4306123e-01, 3.1911552e-02, 9.9808824e-01,\n",
              "       9.9856210e-01, 9.9729431e-01, 5.8259320e-01, 3.2337049e-01,\n",
              "       7.2205423e-20, 4.3916461e-11, 7.8715047e-12, 2.3496420e-12,\n",
              "       1.0047010e-08, 2.2008404e-19, 1.7538948e-06, 1.5482212e-16],\n",
              "      dtype=float32)"
            ]
          },
          "metadata": {
            "tags": []
          },
          "execution_count": 318
        }
      ]
    },
    {
      "cell_type": "code",
      "metadata": {
        "id": "lXiw9Jpe65Cx"
      },
      "source": [
        "predictions = []\n",
        "for item in pred:\n",
        "    if np.argmax(item)== 0:\n",
        "        predictions.append('Density1Benign')\n",
        "    elif np.argmax(item)== 1:\n",
        "        predictions.append('Density1Malignant')\n",
        "    elif np.argmax(item)== 2:\n",
        "        predictions.append('Density2Benign')\n",
        "    elif np.argmax(item)== 3:\n",
        "        predictions.append('Density2Malignant')\n",
        "    elif np.argmax(item)== 4:\n",
        "        predictions.append('Density3Benign')\n",
        "    elif np.argmax(item)== 5:\n",
        "        predictions.append('Density3Malignant')\n",
        "    elif np.argmax(item)== 6:\n",
        "        predictions.append('Density4Benign')\n",
        "    elif np.argmax(item)== 7:\n",
        "        predictions.append('Density4Malignant')"
      ],
      "execution_count": 319,
      "outputs": []
    },
    {
      "cell_type": "code",
      "metadata": {
        "colab": {
          "base_uri": "https://localhost:8080/",
          "height": 17
        },
        "id": "dqVCDxUo7OH-",
        "outputId": "01a926e9-e2c3-46e1-d4c1-e6442477e777"
      },
      "source": [
        "res = pd.DataFrame({'filename': test_images['filename'], 'label': predictions}) # prediction is nothing but the final predictions of your model on input features of your new unseen test data\n",
        "res.to_csv(\"submission.csv\", index = False)\n",
        "\n",
        "# To download the csv file locally\n",
        "from google.colab import files\n",
        "files.download('submission.csv')"
      ],
      "execution_count": 320,
      "outputs": [
        {
          "output_type": "display_data",
          "data": {
            "application/javascript": [
              "\n",
              "    async function download(id, filename, size) {\n",
              "      if (!google.colab.kernel.accessAllowed) {\n",
              "        return;\n",
              "      }\n",
              "      const div = document.createElement('div');\n",
              "      const label = document.createElement('label');\n",
              "      label.textContent = `Downloading \"${filename}\": `;\n",
              "      div.appendChild(label);\n",
              "      const progress = document.createElement('progress');\n",
              "      progress.max = size;\n",
              "      div.appendChild(progress);\n",
              "      document.body.appendChild(div);\n",
              "\n",
              "      const buffers = [];\n",
              "      let downloaded = 0;\n",
              "\n",
              "      const channel = await google.colab.kernel.comms.open(id);\n",
              "      // Send a message to notify the kernel that we're ready.\n",
              "      channel.send({})\n",
              "\n",
              "      for await (const message of channel.messages) {\n",
              "        // Send a message to notify the kernel that we're ready.\n",
              "        channel.send({})\n",
              "        if (message.buffers) {\n",
              "          for (const buffer of message.buffers) {\n",
              "            buffers.push(buffer);\n",
              "            downloaded += buffer.byteLength;\n",
              "            progress.value = downloaded;\n",
              "          }\n",
              "        }\n",
              "      }\n",
              "      const blob = new Blob(buffers, {type: 'application/binary'});\n",
              "      const a = document.createElement('a');\n",
              "      a.href = window.URL.createObjectURL(blob);\n",
              "      a.download = filename;\n",
              "      div.appendChild(a);\n",
              "      a.click();\n",
              "      div.remove();\n",
              "    }\n",
              "  "
            ],
            "text/plain": [
              "<IPython.core.display.Javascript object>"
            ]
          },
          "metadata": {
            "tags": []
          }
        },
        {
          "output_type": "display_data",
          "data": {
            "application/javascript": [
              "download(\"download_675e1cfc-acfe-4b40-8123-d9803706142b\", \"submission.csv\", 60612)"
            ],
            "text/plain": [
              "<IPython.core.display.Javascript object>"
            ]
          },
          "metadata": {
            "tags": []
          }
        }
      ]
    },
    {
      "cell_type": "code",
      "metadata": {
        "id": "o7kaxr2T7Y3B"
      },
      "source": [
        ""
      ],
      "execution_count": null,
      "outputs": []
    }
  ]
}